{
 "cells": [
  {
   "cell_type": "code",
   "execution_count": null,
   "metadata": {},
   "outputs": [],
   "source": [
    "import torch\n",
    "from diffusers import StableDiffusionPipeline\n",
    "from PIL import Image\n",
    "from utils import load_MTI_embeds"
   ]
  },
  {
   "cell_type": "code",
   "execution_count": null,
   "metadata": {},
   "outputs": [],
   "source": [
    "model_id = \"/root/annotated_textual_inversion/model/sd-v1-5\"\n",
    "pipe = StableDiffusionPipeline.from_pretrained(model_id, torch_dtype=torch.float16).to(\"cuda\")\n",
    "pipe.safety_checker = lambda images, clip_input: (images, False) # 去除原来的safety_checker"
   ]
  },
  {
   "cell_type": "code",
   "execution_count": null,
   "metadata": {},
   "outputs": [],
   "source": [
    "# for MTI\n",
    "\n",
    "token = \"<bird>\"\n",
    "number = 2\n",
    "weight_dir=\"/root/annotated_textual_inversion/embeds/bird-MTI-2-1200\"\n",
    "name=\"learned_embeds\"\n",
    "\n",
    "token = load_MTI_embeds(pipe, model_id, token, number, weight_dir, name)"
   ]
  },
  {
   "cell_type": "code",
   "execution_count": null,
   "metadata": {},
   "outputs": [],
   "source": [
    "# for ATI/TI\n",
    "\n",
    "token = \"<CL4P>\"\n",
    "pipe.load_textual_inversion(model_id, token, weight_name=\"/root/annotated_textual_inversion/output/learned_embeds.bin\")"
   ]
  },
  {
   "cell_type": "code",
   "execution_count": null,
   "metadata": {},
   "outputs": [],
   "source": [
    "# for NTI\n",
    "\n",
    "token = \"<CL4P>\"\n",
    "negative_token = f'{token}_negative'\n",
    "pipe.load_textual_inversion(model_id, token, weight_name=\"/root/annotated_textual_inversion/output/learned_embeds.bin\")\n",
    "pipe.load_textual_inversion(model_id, negative_token, weight_name=\"/root/annotated_textual_inversion/output/learned_embeds-negative.bin\")"
   ]
  },
  {
   "cell_type": "code",
   "execution_count": null,
   "metadata": {},
   "outputs": [],
   "source": [
    "# add other embeddings\n",
    "\n",
    "pipe.load_textual_inversion(model_id, \"<CL4P-0>\", weight_name=\"/root/annotated_textual_inversion/embeds/CL4P-ATI-1200/learned_embeds-token0.bin\")"
   ]
  },
  {
   "cell_type": "code",
   "execution_count": null,
   "metadata": {},
   "outputs": [],
   "source": [
    "prompt = f\"a photo of {token} bird\"\n",
    "# prompt = f\"<CL4P-0> robot on grass, {token}\"\n",
    "# image = pipe(prompt, negative_prompt=negative_token, num_inference_steps=50, guidance_scale=7.5).images[0]\n",
    "image = pipe(prompt, num_inference_steps=50, guidance_scale=8, num_images_per_prompt=2).images\n",
    "\n",
    "output = Image.new('RGB', (1024, 512), (255, 255, 255))\n",
    "output.paste(image[0], (0, 0))\n",
    "output.paste(image[1], (512, 0))\n",
    "\n",
    "output.save(f\"output/{token}.png\")"
   ]
  }
 ],
 "metadata": {
  "kernelspec": {
   "display_name": "textual",
   "language": "python",
   "name": "python3"
  },
  "language_info": {
   "codemirror_mode": {
    "name": "ipython",
    "version": 3
   },
   "file_extension": ".py",
   "mimetype": "text/x-python",
   "name": "python",
   "nbconvert_exporter": "python",
   "pygments_lexer": "ipython3",
   "version": "3.10.9"
  },
  "orig_nbformat": 4
 },
 "nbformat": 4,
 "nbformat_minor": 2
}
