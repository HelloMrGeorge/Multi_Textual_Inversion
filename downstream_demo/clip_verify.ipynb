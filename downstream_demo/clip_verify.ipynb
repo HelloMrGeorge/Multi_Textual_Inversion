{
 "cells": [
  {
   "cell_type": "code",
   "execution_count": null,
   "metadata": {},
   "outputs": [],
   "source": [
    "import torch\n",
    "import json\n",
    "from utils import *\n",
    "from transformers import AutoProcessor, CLIPModel"
   ]
  },
  {
   "cell_type": "code",
   "execution_count": null,
   "metadata": {},
   "outputs": [],
   "source": [
    "device = torch.device(\"cuda\")\n",
    "\n",
    "model = CLIPModel.from_pretrained(\"./model/clip-vit-large-patch14/\").to(device)\n",
    "processor = AutoProcessor.from_pretrained(\"./model/clip-vit-large-patch14/\")"
   ]
  },
  {
   "cell_type": "code",
   "execution_count": null,
   "metadata": {},
   "outputs": [],
   "source": [
    "# validate image pair\n",
    "name = \"flower-TI-3000\"\n",
    "dir = \"Strelitzia\"\n",
    "\n",
    "target_dir = f\"./data/{dir}/train\"\n",
    "sample_dir = f\"./data/{dir}/{name}/samples\"\n",
    "log_file = f\"./output/{name}-losses.json\"\n",
    "\n",
    "with open(log_file, \"w\") as write_file:\n",
    "    losses = clip_validate_image_dir(model, processor, sample_dir, target_dir, device=device)\n",
    "    json.dump(losses, write_file)"
   ]
  },
  {
   "cell_type": "code",
   "execution_count": null,
   "metadata": {},
   "outputs": [],
   "source": [
    "# validate pair\n",
    "\n",
    "name = \"Monet-ATI-1200\" # ATI-1200 MTI-1200 TI-2000\n",
    "dir = \"Monet\" # Monet Strelitzia\n",
    "\n",
    "sample_dir = f\"./data/{dir}/{name}/samples\"\n",
    "text=\"A painting in the style of Monet\"\n",
    "log_file = f\"./output/{name}-losses.json\"\n",
    "\n",
    "with open(log_file, \"w\") as write_file:\n",
    "    losses = clip_validate_dir(model, processor, text, sample_dir, device=device)\n",
    "    losses = {\"losses\": losses}\n",
    "    json.dump(losses, write_file)\n"
   ]
  },
  {
   "cell_type": "code",
   "execution_count": 13,
   "metadata": {},
   "outputs": [
    {
     "name": "stdout",
     "output_type": "stream",
     "text": [
      "average loss: 0.7263914066553115\n"
     ]
    }
   ],
   "source": [
    "# caculate the average loss\n",
    "import json\n",
    "\n",
    "log_file = \"data\\\\clip-image-losses\\\\Monet-TI-2000-losses.json\"\n",
    "\n",
    "sum_loss = 0\n",
    "num_samples = 0\n",
    "\n",
    "with open(log_file, \"r\") as read_file:\n",
    "    losses = json.load(read_file)\n",
    "    for key, value in losses.items():\n",
    "        num_samples += len(value)\n",
    "        sum_loss += sum(value)\n",
    "\n",
    "print(f\"average loss: {sum_loss / num_samples}\")"
   ]
  }
 ],
 "metadata": {
  "kernelspec": {
   "display_name": "hgface",
   "language": "python",
   "name": "python3"
  },
  "language_info": {
   "codemirror_mode": {
    "name": "ipython",
    "version": 3
   },
   "file_extension": ".py",
   "mimetype": "text/x-python",
   "name": "python",
   "nbconvert_exporter": "python",
   "pygments_lexer": "ipython3",
   "version": "3.8.10"
  },
  "orig_nbformat": 4
 },
 "nbformat": 4,
 "nbformat_minor": 2
}
