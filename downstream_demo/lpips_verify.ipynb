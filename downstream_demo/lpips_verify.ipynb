{
 "cells": [
  {
   "cell_type": "code",
   "execution_count": null,
   "metadata": {},
   "outputs": [],
   "source": [
    "from utils import *\n",
    "from diffusers import StableDiffusionPipeline\n",
    "import json\n",
    "import torch"
   ]
  },
  {
   "cell_type": "code",
   "execution_count": null,
   "metadata": {},
   "outputs": [],
   "source": [
    "# Load the model\n",
    "\n",
    "model_id = \"/root/annotated_textual_inversion/model/sd-v1-5\"\n",
    "pipe = StableDiffusionPipeline.from_pretrained(model_id, torch_dtype=torch.float16).to(\"cuda\")\n",
    "pipe.safety_checker = lambda images, clip_input: (images, False)"
   ]
  },
  {
   "cell_type": "code",
   "execution_count": null,
   "metadata": {},
   "outputs": [],
   "source": [
    "# Load the embedding\n",
    "\n",
    "token = \"<Monet>\"\n",
    "number = 2\n",
    "weight_dir=\"/root/annotated_textual_inversion/embeds/Monet-TI-2000\"\n",
    "name=\"learned_embeds\"\n",
    "\n",
    "# for MTI\n",
    "# token = load_MTI_embeds(pipe, model_id, token, number, weight_dir, name)\n",
    "\n",
    "# for TI\n",
    "pipe.load_textual_inversion(model_id, token, weight_name=os.path.join(weight_dir, f\"{name}.bin\"))"
   ]
  },
  {
   "cell_type": "code",
   "execution_count": null,
   "metadata": {},
   "outputs": [],
   "source": [
    "# generate samples\n",
    "\n",
    "# prompt = f\"a good photo of a {token}\"\n",
    "prompt = f\"a painting in the style of {token}\"\n",
    "output_dir = f\"/root/annotated_textual_inversion/output/samples\"\n",
    "num_samples = 20\n",
    "step = 50\n",
    "guidance_scale = 8\n",
    "generator = torch.Generator(device=\"cuda\").manual_seed(0)\n",
    "\n",
    "generate_sample(pipe, prompt, output_dir, num_samples, step, guidance_scale, generator)"
   ]
  },
  {
   "cell_type": "code",
   "execution_count": null,
   "metadata": {},
   "outputs": [],
   "source": [
    "# validate\n",
    "\n",
    "loss_fn = lpips.LPIPS(net='alex').cuda()\n",
    "target_dir = \"/root/annotated_textual_inversion/data/Monet/train\"\n",
    "sample_dir = \"/root/annotated_textual_inversion/output/samples\"\n",
    "log_file = \"/root/annotated_textual_inversion/output/losses.json\"\n",
    "\n",
    "with open(log_file, \"w\") as write_file:\n",
    "    losses = lpips_validate_dir(loss_fn, sample_dir, target_dir)\n",
    "    json.dump(losses, write_file)\n"
   ]
  },
  {
   "cell_type": "code",
   "execution_count": 19,
   "metadata": {},
   "outputs": [
    {
     "name": "stdout",
     "output_type": "stream",
     "text": [
      "average loss: 0.7249849343299866\n"
     ]
    }
   ],
   "source": [
    "# caculate the average loss\n",
    "import json\n",
    "\n",
    "log_file = \"F:\\\\Work\\\\annotated_textual_inversion\\\\data\\\\loss\\\\Monet-TI-2000-losses.json\"\n",
    "\n",
    "sum_loss = 0\n",
    "num_samples = 0\n",
    "\n",
    "with open(log_file, \"r\") as read_file:\n",
    "    losses = json.load(read_file)\n",
    "    for key, value in losses.items():\n",
    "        num_samples += len(value)\n",
    "        sum_loss += sum(value)\n",
    "\n",
    "print(f\"average loss: {sum_loss / num_samples}\")"
   ]
  }
 ],
 "metadata": {
  "kernelspec": {
   "display_name": "hgface",
   "language": "python",
   "name": "python3"
  },
  "language_info": {
   "codemirror_mode": {
    "name": "ipython",
    "version": 3
   },
   "file_extension": ".py",
   "mimetype": "text/x-python",
   "name": "python",
   "nbconvert_exporter": "python",
   "pygments_lexer": "ipython3",
   "version": "3.10.10"
  },
  "orig_nbformat": 4
 },
 "nbformat": 4,
 "nbformat_minor": 2
}
