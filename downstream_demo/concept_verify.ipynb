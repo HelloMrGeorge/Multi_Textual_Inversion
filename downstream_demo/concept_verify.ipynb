{
 "cells": [
  {
   "cell_type": "code",
   "execution_count": null,
   "metadata": {},
   "outputs": [],
   "source": [
    "from utils import *\n",
    "from diffusers import StableDiffusionPipeline\n",
    "import json\n",
    "import torch"
   ]
  },
  {
   "cell_type": "code",
   "execution_count": 25,
   "metadata": {},
   "outputs": [
    {
     "name": "stderr",
     "output_type": "stream",
     "text": [
      "/root/annotated_textual_inversion/repositories/transformers/src/transformers/models/clip/feature_extraction_clip.py:28: FutureWarning: The class CLIPFeatureExtractor is deprecated and will be removed in version 5 of Transformers. Please use CLIPImageProcessor instead.\n",
      "  warnings.warn(\n",
      "`text_config_dict` is provided which will be used to initialize `CLIPTextConfig`. The value `text_config[\"id2label\"]` will be overriden.\n"
     ]
    }
   ],
   "source": [
    "# Load the model\n",
    "\n",
    "device = \"cuda\"\n",
    "\n",
    "model_path = \"/root/annotated_textual_inversion/model/sd-v1-5\"\n",
    "pipe = StableDiffusionPipeline.from_pretrained(model_path, torch_dtype=torch.float16)\n",
    "pipe = pipe.to(device)\n",
    "pipe.safety_checker = lambda images, clip_input: (images, False)"
   ]
  },
  {
   "cell_type": "code",
   "execution_count": 26,
   "metadata": {},
   "outputs": [],
   "source": [
    "# Load embedding 1\n",
    "\n",
    "token_1 = \"<bird>\"\n",
    "number = 2\n",
    "weight_dir=\"/root/annotated_textual_inversion/embeds/bird-MTI-2-1200\" # MTI-2-1200; ATI-1200; TI-2000\n",
    "name=\"learned_embeds\"\n",
    "\n",
    "# for MTI\n",
    "token_1 = load_MTI_embeds(pipe, model_path, token_1, number, weight_dir, name)\n",
    "\n",
    "# for TI\n",
    "# pipe.load_textual_inversion(model_path, token_1, weight_name=os.path.join(weight_dir, f\"{name}.bin\"))"
   ]
  },
  {
   "cell_type": "code",
   "execution_count": 27,
   "metadata": {},
   "outputs": [],
   "source": [
    "# Load embedding 2\n",
    "\n",
    "token_2 = \"<flower>\"\n",
    "number = 2\n",
    "weight_dir=\"/root/annotated_textual_inversion/embeds/flower-MTI-2-1200\" # MTI-2-1200; ATI-1200; TI-2000\n",
    "name=\"learned_embeds\"\n",
    "\n",
    "# for MTI\n",
    "token_2 = load_MTI_embeds(pipe, model_path, token_2, number, weight_dir, name)\n",
    "\n",
    "# for TI\n",
    "# pipe.load_textual_inversion(model_path, token_2, weight_name=os.path.join(weight_dir, f\"{name}.bin\"))"
   ]
  },
  {
   "cell_type": "code",
   "execution_count": 28,
   "metadata": {},
   "outputs": [],
   "source": [
    "# set parameters\n",
    "\n",
    "# a {token_2} robot in {token_1} style; {token_1} style, a {token_2} robot; a painting in {token_1} style with a {token_2} robot\n",
    "prompt = f\"a {token_1} bird next to {token_2} flower\" \n",
    "output_dir = f\"/root/annotated_textual_inversion/output/samples\"\n",
    "num_samples = 10\n",
    "step = 50\n",
    "guidance_scale = 7.5\n",
    "generator = torch.Generator(device=\"cuda\").manual_seed(0)"
   ]
  },
  {
   "cell_type": "code",
   "execution_count": 29,
   "metadata": {},
   "outputs": [
    {
     "name": "stdout",
     "output_type": "stream",
     "text": [
      "generating samples ...\n"
     ]
    },
    {
     "name": "stderr",
     "output_type": "stream",
     "text": [
      "100%|██████████| 10/10 [00:37<00:00,  3.78s/it]\n"
     ]
    }
   ],
   "source": [
    "# generate samples\n",
    "\n",
    "pipe.set_progress_bar_config(disable=True)\n",
    "os.makedirs(output_dir, exist_ok=True)\n",
    "\n",
    "print(f\"generating samples ...\")\n",
    "for i in trange(num_samples):\n",
    "    sample = pipe(prompt=prompt, num_inference_steps=step, guidance_scale=guidance_scale, generator=generator).images\n",
    "    sample[0].save(f\"{output_dir}/sample-{i}.png\")"
   ]
  }
 ],
 "metadata": {
  "kernelspec": {
   "display_name": "textual",
   "language": "python",
   "name": "python3"
  },
  "language_info": {
   "codemirror_mode": {
    "name": "ipython",
    "version": 3
   },
   "file_extension": ".py",
   "mimetype": "text/x-python",
   "name": "python",
   "nbconvert_exporter": "python",
   "pygments_lexer": "ipython3",
   "version": "3.10.9"
  },
  "orig_nbformat": 4
 },
 "nbformat": 4,
 "nbformat_minor": 2
}
